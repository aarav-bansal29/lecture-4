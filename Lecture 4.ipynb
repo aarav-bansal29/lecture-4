{
 "cells": [
  {
   "cell_type": "markdown",
   "metadata": {},
   "source": [
    "# Classwork Lecture 4\n",
    "\n",
    "In this exercise, you'll get familiar with the following basics of python:\n",
    "\n",
    "- String Functions\n",
    "- If Else Statements\n",
    "- For Loops"
   ]
  },
  {
   "cell_type": "markdown",
   "metadata": {},
   "source": [
    "## Student Details\n",
    "\n",
    "- Name:\n",
    "- Division: \n",
    "- Roll: "
   ]
  },
  {
   "cell_type": "markdown",
   "metadata": {},
   "source": [
    "# String Functions\n",
    "\n",
    "Python has a set of built-in methods that you can use on strings. Please complete the following short exercise to learn more about the different string functions. \n",
    "\n",
    "[See Reference Library of String Functions](https://www.w3schools.com/python/python_ref_string.asp)\n"
   ]
  },
  {
   "cell_type": "markdown",
   "metadata": {},
   "source": [
    "## Part 1"
   ]
  },
  {
   "cell_type": "code",
   "execution_count": 1,
   "metadata": {},
   "outputs": [],
   "source": [
    "# Name\n",
    "\n",
    "\n",
    "#Empty String\n",
    "\n",
    "\n",
    "#String with numeric values in it\n"
   ]
  },
  {
   "cell_type": "code",
   "execution_count": 1,
   "metadata": {},
   "outputs": [],
   "source": [
    "# Q1 A Create and print a variable called \"my_name\"that stores your name in all lower case\n",
    "my_name = \"aarav\""
   ]
  },
  {
   "cell_type": "code",
   "execution_count": 6,
   "metadata": {},
   "outputs": [
    {
     "data": {
      "text/plain": [
       "'Aarav'"
      ]
     },
     "execution_count": 6,
     "metadata": {},
     "output_type": "execute_result"
    }
   ],
   "source": [
    "# Q1 B Capitalize the first letter of \"my_name\" and then print it\n",
    "my_name = my_name.capitalize() \n",
    "my_name\n"
   ]
  },
  {
   "cell_type": "code",
   "execution_count": 7,
   "metadata": {},
   "outputs": [
    {
     "data": {
      "text/plain": [
       "'AARAV'"
      ]
     },
     "execution_count": 7,
     "metadata": {},
     "output_type": "execute_result"
    }
   ],
   "source": [
    "# Q1 C Capitalize all letters of \"my_name\" and then print it\n",
    "my_name = my_name.upper()\n",
    "my_name"
   ]
  },
  {
   "cell_type": "markdown",
   "metadata": {},
   "source": [
    "## Part 2"
   ]
  },
  {
   "cell_type": "code",
   "execution_count": 8,
   "metadata": {},
   "outputs": [
    {
     "data": {
      "text/plain": [
       "'I love apples, apples are my favorite fruit'"
      ]
     },
     "execution_count": 8,
     "metadata": {},
     "output_type": "execute_result"
    }
   ],
   "source": [
    "# Q2 A Create and print a variable called \"my_favorite_fruit\" \n",
    "# and make it store \"I love apples, apples are my favorite fruit\"\n",
    "\n",
    "my_fav_fruit = \"I love apples, apples are my favorite fruit\"\n",
    "my_fav_fruit"
   ]
  },
  {
   "cell_type": "code",
   "execution_count": 10,
   "metadata": {},
   "outputs": [
    {
     "data": {
      "text/plain": [
       "True"
      ]
     },
     "execution_count": 10,
     "metadata": {},
     "output_type": "execute_result"
    }
   ],
   "source": [
    "# Q2 B Print whether \"my_favorite_fruit\" ends with \"fruit\" \n",
    "my_fav_fruit.endswith(\"fruit\")"
   ]
  },
  {
   "cell_type": "code",
   "execution_count": 14,
   "metadata": {},
   "outputs": [
    {
     "data": {
      "text/plain": [
       "2"
      ]
     },
     "execution_count": 14,
     "metadata": {},
     "output_type": "execute_result"
    }
   ],
   "source": [
    "# Q2 C Count and print the number of times the value \"apple\" appears in the string\n",
    "apple_count = my_fav_fruit.count(\"apples\")\n",
    "apple_count"
   ]
  },
  {
   "cell_type": "code",
   "execution_count": 18,
   "metadata": {},
   "outputs": [
    {
     "data": {
      "text/plain": [
       "'I love banana, banana are my favorite fruit'"
      ]
     },
     "execution_count": 18,
     "metadata": {},
     "output_type": "execute_result"
    }
   ],
   "source": [
    "# Q2 D Replace \"apple\" with \"banana\" in \"my_favorite_fruit\"\n",
    "my_fav_fruit = my_fav_fruit.replace(\"apples\",\"banana\")\n",
    "my_fav_fruit"
   ]
  },
  {
   "cell_type": "code",
   "execution_count": 19,
   "metadata": {},
   "outputs": [
    {
     "data": {
      "text/plain": [
       "'I Love Banana, Banana Are My Favorite Fruit'"
      ]
     },
     "execution_count": 19,
     "metadata": {},
     "output_type": "execute_result"
    }
   ],
   "source": [
    "# Q2 E Convert the first character of each word in \"my_favorite_fruit\" to upper case\n",
    "my_fav_fruit =my_fav_fruit.title()\n",
    "my_fav_fruit"
   ]
  },
  {
   "cell_type": "code",
   "execution_count": 21,
   "metadata": {},
   "outputs": [
    {
     "data": {
      "text/plain": [
       "['I Love Banana', ' Banana Are My Favorite Fruit']"
      ]
     },
     "execution_count": 21,
     "metadata": {},
     "output_type": "execute_result"
    }
   ],
   "source": [
    "# Q2 F Split \"my_favorite_fruit\" on \",\" and print the result\n",
    "\n",
    "my_fav_fruit= my_fav_fruit.split(\",\")\n",
    "my_fav_fruit"
   ]
  },
  {
   "cell_type": "markdown",
   "metadata": {},
   "source": [
    "# If Else Statements\n",
    "\n",
    "[See Reference](https://info370a-w19.github.io/python-basics/logic-and-conditionals.html)"
   ]
  },
  {
   "cell_type": "code",
   "execution_count": 2,
   "metadata": {},
   "outputs": [],
   "source": [
    "#Mother Older \n",
    "def is_mother_older(mother_age, father_age):\n",
    "    if mother_age>father_age:\n",
    "        print(\"mother is older then father\")\n",
    "    else:\n",
    "            print(\"mother is not older to father\")"
   ]
  },
  {
   "cell_type": "code",
   "execution_count": 3,
   "metadata": {},
   "outputs": [
    {
     "name": "stdout",
     "output_type": "stream",
     "text": [
      "mother is older then father\n"
     ]
    }
   ],
   "source": [
    "is_mother_older(49,48)"
   ]
  },
  {
   "cell_type": "code",
   "execution_count": 4,
   "metadata": {},
   "outputs": [
    {
     "name": "stdout",
     "output_type": "stream",
     "text": [
      "mother is older then father\n"
     ]
    }
   ],
   "source": [
    "is_mother_older(47,44)"
   ]
  },
  {
   "cell_type": "code",
   "execution_count": 5,
   "metadata": {},
   "outputs": [],
   "source": [
    "#Pass Fail \n",
    "#The mark boundary for pass is 35\n",
    "\n",
    "def pass_fail(grade):\n",
    "    if (grade>35):\n",
    "        print(\"pass\")\n",
    "    elif grade ==35:\n",
    "        print(\"just passed\")\n",
    "    else:\n",
    "        print(\"failed\")"
   ]
  },
  {
   "cell_type": "code",
   "execution_count": 6,
   "metadata": {},
   "outputs": [
    {
     "name": "stdout",
     "output_type": "stream",
     "text": [
      "failed\n"
     ]
    }
   ],
   "source": [
    "pass_fail(30)"
   ]
  },
  {
   "cell_type": "code",
   "execution_count": 8,
   "metadata": {},
   "outputs": [
    {
     "name": "stdout",
     "output_type": "stream",
     "text": [
      "just passed\n"
     ]
    }
   ],
   "source": [
    "pass_fail(35)"
   ]
  },
  {
   "cell_type": "code",
   "execution_count": 9,
   "metadata": {},
   "outputs": [
    {
     "name": "stdout",
     "output_type": "stream",
     "text": [
      "pass\n"
     ]
    }
   ],
   "source": [
    "pass_fail(36)"
   ]
  },
  {
   "cell_type": "markdown",
   "metadata": {},
   "source": [
    "# Create a function that accepts the current temperature and returns \"is hot\" if the temperature is greater than 24 and returns \"is not hot\" if the temperature is equal to or below 24"
   ]
  },
  {
   "cell_type": "code",
   "execution_count": 48,
   "metadata": {},
   "outputs": [],
   "source": [
    "def is_hot_or_not(temperature):\n",
    "    if temperature>24:\n",
    "        return \"Is Hot\"\n",
    "    else:\n",
    "        return \"Is not hot\""
   ]
  },
  {
   "cell_type": "code",
   "execution_count": 49,
   "metadata": {},
   "outputs": [
    {
     "data": {
      "text/plain": [
       "'Is Hot'"
      ]
     },
     "execution_count": 49,
     "metadata": {},
     "output_type": "execute_result"
    }
   ],
   "source": [
    "is_hot_or_not(35)"
   ]
  },
  {
   "cell_type": "code",
   "execution_count": 50,
   "metadata": {},
   "outputs": [
    {
     "data": {
      "text/plain": [
       "'Is not hot'"
      ]
     },
     "execution_count": 50,
     "metadata": {},
     "output_type": "execute_result"
    }
   ],
   "source": [
    "is_hot_or_not(20)"
   ]
  },
  {
   "cell_type": "markdown",
   "metadata": {},
   "source": [
    "# Grades\n",
    "\n",
    "- A Grade: 90 and above\n",
    "- B Grade: 70 and 89\n",
    "- C Grade: 50 and 69\n",
    "- D Grade: 35 and 49\n",
    "- F Grade: Anything below 35"
   ]
  },
  {
   "cell_type": "code",
   "execution_count": 11,
   "metadata": {},
   "outputs": [],
   "source": [
    "#Grader\n",
    "def grader(score):\n",
    "    if score>=90:\n",
    "        return \"A\"\n",
    "    elif score>=70 and score <=89:\n",
    "        return \"B\"\n",
    "    elif score>=50 and score <=69:\n",
    "        return \"C\"\n",
    "    elif score>=35 and score <=49:\n",
    "        return \"D\"\n",
    "    else:\n",
    "        return\"F\""
   ]
  },
  {
   "cell_type": "code",
   "execution_count": 47,
   "metadata": {},
   "outputs": [
    {
     "data": {
      "text/plain": [
       "'B'"
      ]
     },
     "execution_count": 47,
     "metadata": {},
     "output_type": "execute_result"
    }
   ],
   "source": [
    "grader(75)"
   ]
  },
  {
   "cell_type": "code",
   "execution_count": 12,
   "metadata": {},
   "outputs": [
    {
     "data": {
      "text/plain": [
       "'F'"
      ]
     },
     "execution_count": 12,
     "metadata": {},
     "output_type": "execute_result"
    }
   ],
   "source": [
    "grader(30)"
   ]
  },
  {
   "cell_type": "code",
   "execution_count": 13,
   "metadata": {},
   "outputs": [],
   "source": [
    "# Create a function called \"goldilocks\" that accepts a numeric temperature value \n",
    "# and returns \"This porridge is too hot!\" if the temperature value is >= 80\n",
    "# and returns \"This porridge is just right\" if the temperature value is between 40 and 79\n",
    "# and returns \"This porridge is too cold\" if the temperature value is below 40\n",
    "\n"
   ]
  },
  {
   "cell_type": "code",
   "execution_count": null,
   "metadata": {},
   "outputs": [],
   "source": []
  },
  {
   "cell_type": "markdown",
   "metadata": {},
   "source": [
    "# For Loops"
   ]
  },
  {
   "cell_type": "code",
   "execution_count": 65,
   "metadata": {
    "scrolled": true
   },
   "outputs": [
    {
     "data": {
      "text/plain": [
       "['dhoom', 'golmaal', 'krish', 'spiderman']"
      ]
     },
     "execution_count": 65,
     "metadata": {},
     "output_type": "execute_result"
    }
   ],
   "source": [
    "# Create a list of your favorite movies\n",
    "movies= [\"dhoom\",\"golmaal\",\"krish\",\"spiderman\"]\n",
    "movies"
   ]
  },
  {
   "cell_type": "code",
   "execution_count": 66,
   "metadata": {},
   "outputs": [
    {
     "name": "stdout",
     "output_type": "stream",
     "text": [
      "I love dhoom\n",
      "I love golmaal\n",
      "I love krish\n",
      "I love spiderman\n"
     ]
    }
   ],
   "source": [
    "# Create a for loop that prints each of your favorite movies with the text \"I love \"\n",
    "for movie in movies:\n",
    "    print(\"I love\", movie)"
   ]
  },
  {
   "cell_type": "code",
   "execution_count": 16,
   "metadata": {},
   "outputs": [],
   "source": [
    "# Create a list of your favorite cars and favorite colors"
   ]
  },
  {
   "cell_type": "code",
   "execution_count": null,
   "metadata": {},
   "outputs": [],
   "source": []
  },
  {
   "cell_type": "code",
   "execution_count": 17,
   "metadata": {},
   "outputs": [],
   "source": [
    "# Create a nested for loop that prints your favorite car names for each favorite color\n"
   ]
  },
  {
   "cell_type": "code",
   "execution_count": null,
   "metadata": {},
   "outputs": [],
   "source": []
  },
  {
   "cell_type": "markdown",
   "metadata": {},
   "source": [
    "# Create a function that accepts a list of colors and a list of cars  and then returns the following\n",
    "\n",
    "- \"Yes it exists\" if the car combination \"Speed Red Mazda\" is possible\n",
    "- \"Does not exist\" for every other car combination"
   ]
  },
  {
   "cell_type": "code",
   "execution_count": 29,
   "metadata": {},
   "outputs": [],
   "source": [
    "def speed_red_mazda_exists(cars, colors):\n",
    "    for color in colors:\n",
    "        for car in cars:\n",
    "            if car == \"Mazda\" and color == \"Speed Red\":\n",
    "                return \"It Exists\"\n",
    "            return \"Does not Exist\""
   ]
  },
  {
   "cell_type": "code",
   "execution_count": 31,
   "metadata": {},
   "outputs": [
    {
     "data": {
      "text/plain": [
       "'Does not Exist'"
      ]
     },
     "execution_count": 31,
     "metadata": {},
     "output_type": "execute_result"
    }
   ],
   "source": [
    "car_list_1 = [\"Ferrari\",\"Ford\"]\n",
    "color_list_1=[\"Blue\",\"Speed Red\"]\n",
    "speed_red_mazda_exists(car_list_1, color_list_1)"
   ]
  },
  {
   "cell_type": "code",
   "execution_count": 32,
   "metadata": {},
   "outputs": [
    {
     "data": {
      "text/plain": [
       "'It Exists'"
      ]
     },
     "execution_count": 32,
     "metadata": {},
     "output_type": "execute_result"
    }
   ],
   "source": [
    "car_list_2 = [\"Mazda\",\"Skoda\"]\n",
    "color_list_2 = [\"Speed Red\",\"Matt Black\"]\n",
    "speed_red_mazda_exists(car_list_2, color_list_2)"
   ]
  }
 ],
 "metadata": {
  "kernelspec": {
   "display_name": "Python 3",
   "language": "python",
   "name": "python3"
  },
  "language_info": {
   "codemirror_mode": {
    "name": "ipython",
    "version": 3
   },
   "file_extension": ".py",
   "mimetype": "text/x-python",
   "name": "python",
   "nbconvert_exporter": "python",
   "pygments_lexer": "ipython3",
   "version": "3.8.8"
  }
 },
 "nbformat": 4,
 "nbformat_minor": 2
}
